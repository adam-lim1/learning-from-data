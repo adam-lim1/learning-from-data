{
 "cells": [
  {
   "cell_type": "markdown",
   "metadata": {},
   "source": [
    "## Homework 2\n",
    "Adam Lim, 5/11/19 <br></br>\n",
    "Exercises from the course Learning From Data: https://work.caltech.edu/homeworks.html\n",
    "<br></br>\n",
    "Homework 2 link: https://work.caltech.edu/homework/hw2.pdf"
   ]
  },
  {
   "cell_type": "markdown",
   "metadata": {},
   "source": [
    "### Questions #1-2\n",
    "Run a computer simulation for flipping 1,000 virtual fair coins. Flip each coin independently 10 times. Focus on 3 coins as follows: c1 is the first coin flipped, crand is a coin chosen randomly from the 1,000, and cmin is the coin which had the minimum frequency of heads (pick the earlier one in case of a tie). Let ν1, νrand, and νmin be the fraction of heads obtained for the 3 respective coins out of the 10 tosses. Run the experiment 100,000 times in order to get a full distribution of ν1, νrand, and νmin (note that crand and cmin will change from run to run).\n",
    "\n",
    "<b> 1. </b> The average value of νmin is closest to:<br></br>\n",
    "<b> 2. </b> Which coin(s) has a distribution of ν that satisfies the (single-bin) Hoeffding Inequality?<br></br>"
   ]
  },
  {
   "cell_type": "code",
   "execution_count": 1,
   "metadata": {},
   "outputs": [],
   "source": [
    "import pandas as pd\n",
    "import numpy as np\n",
    "import random\n",
    "import math\n",
    "np.random.seed(1234)"
   ]
  },
  {
   "cell_type": "code",
   "execution_count": 2,
   "metadata": {},
   "outputs": [
    {
     "name": "stdout",
     "output_type": "stream",
     "text": [
      "CPU times: user 4min 55s, sys: 1.23 s, total: 4min 57s\n",
      "Wall time: 5min 3s\n"
     ]
    }
   ],
   "source": [
    "%%time\n",
    "\n",
    "v1_distribution = []\n",
    "vmin_distribution = []\n",
    "vrand_distribution = []\n",
    "\n",
    "for i in range(0, 100000):\n",
    "    #print('***************** TRIAL {} *****************'.format(i))\n",
    "    df = pd.DataFrame(np.random.randint(0,2, size=(1000,10)))\n",
    "    df['num_heads'] = df.sum(axis=1)\n",
    "\n",
    "    v1 = df.iloc[0]['num_heads']\n",
    "    vmin = df.iloc[df['num_heads'].idxmin(axis=1)]['num_heads']\n",
    "    vrand = df.sample(1)['num_heads'].values[0]\n",
    "\n",
    "    #print('V1: {}'.format(v1))\n",
    "    #print('Vmin: {}'.format(vmin))\n",
    "    #print('Vrand: {}'.format(vrand))\n",
    "\n",
    "    v1_distribution.append(v1)\n",
    "    vmin_distribution.append(vmin)\n",
    "    vrand_distribution.append(vrand)"
   ]
  },
  {
   "cell_type": "code",
   "execution_count": 3,
   "metadata": {},
   "outputs": [
    {
     "name": "stdout",
     "output_type": "stream",
     "text": [
      "0.499499\n",
      "0.037599\n",
      "0.500145\n"
     ]
    }
   ],
   "source": [
    "avg_v1 = sum(v1_distribution) / (100000*10)\n",
    "print(avg_v1)\n",
    "\n",
    "avg_vmin = sum(vmin_distribution) / (100000*10)\n",
    "print(avg_vmin)\n",
    "\n",
    "avg_vrand = sum(vrand_distribution) / (100000*10)\n",
    "print(avg_vrand)"
   ]
  },
  {
   "cell_type": "code",
   "execution_count": 4,
   "metadata": {},
   "outputs": [],
   "source": [
    "def hoeffding(e_in):\n",
    "    epsilon = 0.5-e_in\n",
    "    probability = math.pow(math.e, -2*math.pow(epsilon,2)*10000)\n",
    "    return probability"
   ]
  },
  {
   "cell_type": "code",
   "execution_count": 5,
   "metadata": {},
   "outputs": [
    {
     "name": "stdout",
     "output_type": "stream",
     "text": [
      "0.9949925592422487\n",
      "0.0\n",
      "0.9995795883977344\n"
     ]
    }
   ],
   "source": [
    "print(hoeffding(avg_v1))\n",
    "print(hoeffding(avg_vmin))\n",
    "print(hoeffding(avg_vrand))"
   ]
  },
  {
   "cell_type": "markdown",
   "metadata": {},
   "source": [
    "<b> Answer (1) </b> <br></br>\n",
    "<b>[b]</b> 0.01 <br></br>\n",
    "\n",
    "<b> Answer (2) </b> <br></br>\n",
    "<b>[d]</b> c1 and crand <br></br>"
   ]
  },
  {
   "cell_type": "markdown",
   "metadata": {},
   "source": [
    "### Questions # 3-4\n",
    "Error and Noise\n",
    "Consider the bin model for a hypothesis h that makes an error with probability µ in approximating a deterministic target function f (both h and f are binary functions). If we use the same h to approximate a noisy version of f given by:"
   ]
  },
  {
   "cell_type": "markdown",
   "metadata": {},
   "source": [
    "<b>3.</b> What is the probability of error that h makes in approximating y? Hint: Two wrongs can make a right! <br></br>\n",
    "\n",
    "h(x) approximates f(x); f(x) approximates y.\n",
    "\n",
    "| P(h(x)) | h(x) ≃ f(x)  |\n",
    "|---------|--------------|\n",
    "| μ       | h(x) != f(x) |\n",
    "| 1 - μ   | h(x) = f(x)  |\n",
    "\n",
    "<br></br>\n",
    "\n",
    "| P(f(x)) | f(x) ≃ y  |\n",
    "|---------|-----------|\n",
    "| λ       | y = f(x)  |\n",
    "| 1 - λ   | y != f(x) |\n",
    "\n",
    "<br></br>\n",
    "h(x) approximates f correctly when a) h(x) correctly approximates f(x) and f(x) correctly approximates y or b) h(x) incorrectly approximates f(x) and f(x) incorrectly approximates y. Thus, h incorrectly approximates y with probability: `(μ * λ) + ((1 - μ) * (1 - λ))` <br></br>\n",
    "\n",
    "<b> Answer </b> <br></br>\n",
    "<b>[e]</b> `(1 − λ) ∗ (1 − µ) + (λ ∗ µ)`"
   ]
  },
  {
   "cell_type": "markdown",
   "metadata": {},
   "source": [
    "<b>4.</b> At what value of λ will the performance of h be independent of µ? <br></br>\n",
    "`(1 − λ) ∗ (1 − µ) + λ ∗ µ` = `2µλ + 1 - µ - λ`. When `λ = 0.5`, this simplifies to 0.5 <br></br>\n",
    "\n",
    "<b> Answer </b><br></br>\n",
    "<b>[b]</b> 0.5"
   ]
  },
  {
   "cell_type": "markdown",
   "metadata": {},
   "source": [
    "### Questions # 5-7\n",
    "<b> Linear Regression </b> <br></br>\n",
    "In these problems, we will explore how Linear Regression for classification works. As with the Perceptron Learning Algorithm in Homework # 1, you will create your own target function f and data set D. Take d = 2 so you can visualize the problem, and assume X = [−1, 1] × [−1, 1] with uniform probability of picking each x ∈ X . In each run, choose a random line in the plane as your target function f (do this by taking two random, uniformly distributed points in [−1,1] × [−1, 1] and taking the line passing through them), where one side of the line maps to +1 and the other maps to −1. Choose the inputs xn of the data set as random points (uniformly in X ), and evaluate the target function on each xn to get the corresponding output yn.\n",
    "\n",
    "<b>5.</b> Take N = 100. Use Linear Regression to find g and evaluate Ein, the fraction of in-sample points which got classified incorrectly. Repeat the experiment 1000 times and take the average (keep the g’s as they will be used again in Problem 6). Which of the following values is closest to the average Ein? (Closest is the option that makes the expression |your answer −given option| closest to 0. Use this definition of closest here and throughout.)\n",
    "\n",
    "<b>6.</b> Now, generate 1000 fresh points and use them to estimate the out-of-sample error Eout of g that you got in Problem 5 (number of misclassified out-of-sample points / total number of out-of-sample points). Again, run the experiment 1000 times and take the average. Which value is closest to the average Eout?</b>\n",
    "\n",
    "<b>7.</b> Now, take N = 10. After finding the weights using Linear Regression, use them as a vector of initial weights for the Perceptron Learning Algorithm. Run PLA until it converges to a final vector of weights that completely separates all the in-sample points. Among the choices below, what is the closest value to the average number of iterations (over 1000 runs) that PLA takes to converge? (When implementing PLA, have the algorithm choose a point randomly from the set of misclassified points at each iteration)"
   ]
  },
  {
   "cell_type": "code",
   "execution_count": 6,
   "metadata": {},
   "outputs": [],
   "source": [
    "class RandomLine:\n",
    "    def __init__(self, pt1, pt2):\n",
    "        self.pt1 = pt1\n",
    "        self.pt2 = pt2\n",
    "        self.slope = (pt1[1] - pt2[1]) / (pt1[0] - pt2[0])\n",
    "        # y - y1 = m(x - x1) -> y = mx - mx1 + y1 \n",
    "        self.intercept = self.slope * (-1 * pt1[0]) + pt1[1]\n",
    "    \n",
    "    def evaluate_pt(self, random_pt):\n",
    "        # Evaluate if point is above or below line\n",
    "        line_pt = random_pt[0]*self.slope + self.intercept\n",
    "        if random_pt[1] > line_pt:\n",
    "            return 1\n",
    "        else:\n",
    "            return -1"
   ]
  },
  {
   "cell_type": "code",
   "execution_count": 7,
   "metadata": {},
   "outputs": [],
   "source": [
    "class PointsDF:\n",
    "    def __init__(self, N, line):\n",
    "        self.N = N\n",
    "        self.line = line\n",
    "        \n",
    "        self.df = pd.DataFrame(np.random.uniform(-1,1,size=(self.N,2)))\n",
    "        self.df['x_vector'] = list(zip(np.ones(self.df.shape[0]), self.df[0], self.df[1]))\n",
    "        self.df['x_vector'] = self.df['x_vector'].apply(lambda x: np.asarray(x))\n",
    "        self.df['y_initial'] = self.df['x_vector'].apply(lambda x: self.line.evaluate_pt(x[1:]))\n",
    "           \n",
    "    def linearReg(self):\n",
    "        x = np.array(self.df['x_vector'].tolist())\n",
    "        x_t = x.transpose()\n",
    "        x_dagger = np.dot(np.linalg.inv(np.dot(x_t, x)), x_t)\n",
    "        #x_dagger.shape\n",
    "        y = np.array(self.df['y_initial'].tolist())\n",
    "        weights = np.dot(x_dagger, y)\n",
    "        return weights\n",
    "    \n",
    "    def evaluate(self, weights):\n",
    "        self.df['y_predict'] = self.df['x_vector'].apply(lambda x: np.sign(np.dot(weights, x)))\n",
    "        self.df['match'] = np.where(self.df.y_initial == self.df.y_predict, 1, 0)\n",
    "        #match_pct = self.df['match'].sum() / self.df['match'].count()\n",
    "        #return match_pct\n",
    "    \n",
    "    def PLA(self, weights):\n",
    "        iters = 0\n",
    "        self.evaluate(weights)\n",
    "        matches = self.df['match'].sum()\n",
    "        \n",
    "        while matches != self.df.shape[0]: # While 1+ misclassified points\n",
    "            iters = iters + 1\n",
    "\n",
    "            # Use misclassified to update weights vector\n",
    "            temp = self.df.query('match != 1').sample(1)\n",
    "            weights = weights + temp['y_initial'].values[0]* temp['x_vector'].values[0]\n",
    "            #print(\"Iter {} : {}\".format(iters, weights))\n",
    "\n",
    "            self.df['evaluate'] = self.df['x_vector'].apply(lambda x: np.sign(np.dot(weights, x)))\n",
    "            self.df['match'] = np.where(self.df.y_initial == self.df.evaluate, 1, -1)\n",
    "            matches = self.df['match'].sum()\n",
    "\n",
    "        #print('Converged at Iteration {}'.format(iters))\n",
    "        return iters, weights\n",
    "        "
   ]
  },
  {
   "cell_type": "code",
   "execution_count": 8,
   "metadata": {},
   "outputs": [],
   "source": [
    "OOS_N = 1000\n",
    "results = []\n",
    "OOS_results = []\n",
    "\n",
    "for i in range(0,1000):\n",
    "    #print(\"************ TRIAL {} ************\".format(i))\n",
    "    line = RandomLine(np.random.uniform(-1,1, 2), np.random.uniform(-1,1, 2))\n",
    "    df = PointsDF(100, line)\n",
    "    weights = df.linearReg()\n",
    "    df.evaluate(weights)\n",
    "    match_pct = df.df['match'].sum() / df.df['match'].count()\n",
    "    results.append(match_pct)\n",
    "    #print(\"In-sample Match Rate: {}\".format(match_pct))\n",
    "    \n",
    "    # Out of Sample\n",
    "    OOS = PointsDF(1000, line)\n",
    "    OOS.evaluate(weights)\n",
    "    OOS_match_pct = OOS.df['match'].sum() / OOS.df['match'].count()\n",
    "    OOS_results.append(OOS_match_pct)\n",
    "    #print(\"Out of Sample Match Rate: {}\".format(OOS_match_pct), file=f)"
   ]
  },
  {
   "cell_type": "code",
   "execution_count": 9,
   "metadata": {},
   "outputs": [
    {
     "name": "stdout",
     "output_type": "stream",
     "text": [
      "0.03918999999999073\n",
      "0.04748699999999961\n"
     ]
    }
   ],
   "source": [
    "print(1 - sum(results) / len(results))\n",
    "print(1 - sum(OOS_results) / len(OOS_results))"
   ]
  },
  {
   "cell_type": "markdown",
   "metadata": {},
   "source": [
    "<b> Answer (5) </b> <br></br>\n",
    "<b>[c]</b> 0.01 <br></br>\n",
    "<b> Answer (6) </b> <br></br>\n",
    "<b>[c]</b> 0.01"
   ]
  },
  {
   "cell_type": "code",
   "execution_count": 10,
   "metadata": {},
   "outputs": [],
   "source": [
    "## PLA initialized with weights from linear regression \n",
    "PLA_results = []\n",
    "for i in range(0,1000):\n",
    "    #print(\"************ TRIAL {} ************\".format(i))\n",
    "    line = RandomLine(np.random.uniform(-1,1, 2), np.random.uniform(-1,1, 2))\n",
    "    test = PointsDF(10, line)\n",
    "    weights = test.linearReg()\n",
    "    test.evaluate(weights)\n",
    "    iters, weights = test.PLA(weights)\n",
    "    #print('Iterations: {}'.format(iters))\n",
    "    PLA_results.append(iters)"
   ]
  },
  {
   "cell_type": "code",
   "execution_count": 11,
   "metadata": {},
   "outputs": [
    {
     "data": {
      "text/plain": [
       "5.14"
      ]
     },
     "execution_count": 11,
     "metadata": {},
     "output_type": "execute_result"
    }
   ],
   "source": [
    "sum(PLA_results) / len(PLA_results)"
   ]
  },
  {
   "cell_type": "markdown",
   "metadata": {},
   "source": [
    "<b> Answer (7) </b> <br></br>\n",
    "<b>[a]</b> 1"
   ]
  },
  {
   "cell_type": "markdown",
   "metadata": {},
   "source": [
    "### Questions 8 - 10\n",
    "<b>Nonlinear Transformation</b> <br></br>\n",
    "In these problems, we again apply Linear Regression for classification. Consider the target function: <br></br>\n",
    "f(x1, x2) = sign(x1^2 + x2^2 - 0.6)\n",
    "\n",
    "Generate a training set of N = 1000 points on X = [−1, 1] × [−1, 1] with a uniform probability of picking each x ∈ X . Generate simulated noise by flipping the sign of the output in a randomly selected 10% subset of the generated training set.\n",
    "\n",
    "<b>8.</b> Carry out Linear Regression without transformation, i.e., with feature vector: (1, x1, x2), to find the weight w. What is the closest value to the classification in-sample error Ein? (Run the experiment 1000 times and take the average Ein to reduce variation in your results.)\n",
    "\n",
    "<b>9.</b> Now, transform the N = 1000 training data into the following nonlinear feature vector:\n",
    "(1, x1, x2, x1x2, x1^2, x2^2). Find the vector ˜w that corresponds to the solution of Linear Regression. Which of the following hypotheses is closest to the one you find? Closest here means agrees the most with your hypothesis (has the highest probability of agreeing on a randomly selected point). Average over a few runs to make sure your answer is stable.\n",
    "\n",
    "<b>10.</b> What is the closest value to the classification out-of-sample error Eout of your hypothesis from Problem 9? (Estimate it by generating a new set of 1000 points and adding noise, as before. Average over 1000 runs to reduce the variation in your results.)"
   ]
  },
  {
   "cell_type": "code",
   "execution_count": 12,
   "metadata": {},
   "outputs": [],
   "source": [
    "class NoisyDF:\n",
    "    def __init__(self, N):\n",
    "        self.N = N\n",
    "        self.line = line\n",
    "        \n",
    "        self.df = pd.DataFrame(np.random.uniform(-1,1,size=(self.N,2)))\n",
    "        self.df['x_vector'] = list(zip(np.ones(self.df.shape[0]), self.df[0], self.df[1]))\n",
    "        self.df['x_vector'] = self.df['x_vector'].apply(lambda x: np.asarray(x))\n",
    "        \n",
    "        self.df['y_initial'] = self.df['x_vector'].apply(lambda x: np.sign(pow(x[1],2) + pow(x[2], 2) - 0.6))\n",
    "        self.df['rand'] = 1\n",
    "        self.df['rand'] = self.df['rand'].apply(lambda x: x*np.random.rand())\n",
    "        self.df['y_initial'] = np.where(self.df['rand'] > 0.1, self.df['y_initial'], self.df['y_initial']*-1)\n",
    "           \n",
    "    def linearReg(self, xVector_col):\n",
    "        x = np.array(self.df[xVector_col].tolist())\n",
    "        x_t = x.transpose()\n",
    "        x_dagger = np.dot(np.linalg.inv(np.dot(x_t, x)), x_t)\n",
    "        #x_dagger.shape\n",
    "        y = np.array(self.df['y_initial'].tolist())\n",
    "        weights = np.dot(x_dagger, y)\n",
    "        return weights\n",
    "    \n",
    "    def evaluate(self, weights, x_vector_col):\n",
    "        self.df['y_predict'] = self.df[x_vector_col].apply(lambda x: np.sign(np.dot(weights, x)))\n",
    "        self.df['match'] = np.where(self.df.y_initial == self.df.y_predict, 1, 0)\n",
    "        #match_pct = self.df['match'].sum() / self.df['match'].count()\n",
    "        #return match_pct\n",
    "        \n",
    "    def x_transform(self):\n",
    "        self.df['x_vector_t'] = self.df['x_vector'].apply(lambda x: np.array([1,x[1],x[2], x[1]*x[2], pow(x[1], 2), pow(x[2], 2)]))"
   ]
  },
  {
   "cell_type": "code",
   "execution_count": 13,
   "metadata": {
    "scrolled": true
   },
   "outputs": [],
   "source": [
    "noisy_results = []\n",
    "\n",
    "for i in range(0,1000):\n",
    "    df = NoisyDF(100)\n",
    "    weights = df.linearReg('x_vector')\n",
    "    df.evaluate(weights, 'x_vector')\n",
    "    error = 1- (df.df['match'].sum() / df.df['match'].count())\n",
    "    noisy_results.append(error)"
   ]
  },
  {
   "cell_type": "code",
   "execution_count": 14,
   "metadata": {},
   "outputs": [
    {
     "name": "stdout",
     "output_type": "stream",
     "text": [
      "0.5583100000000002\n"
     ]
    }
   ],
   "source": [
    "error = 1 - (sum(noisy_results) / len(noisy_results))\n",
    "print(error)"
   ]
  },
  {
   "cell_type": "markdown",
   "metadata": {},
   "source": [
    "<b> Answer (8) </b> <br></br>\n",
    "<b>[d]</b> 0.5"
   ]
  },
  {
   "cell_type": "code",
   "execution_count": 15,
   "metadata": {},
   "outputs": [
    {
     "name": "stdout",
     "output_type": "stream",
     "text": [
      "[-0.95794898  0.29235185  0.01448495 -0.32265756  1.47330903  1.61461552]\n"
     ]
    }
   ],
   "source": [
    "df = NoisyDF(100)\n",
    "df.x_transform()\n",
    "weights_t = df.linearReg('x_vector_t')\n",
    "df.evaluate(weights_t, 'x_vector_t')\n",
    "print(weights_t)"
   ]
  },
  {
   "cell_type": "code",
   "execution_count": 16,
   "metadata": {},
   "outputs": [
    {
     "data": {
      "text/plain": [
       "0.09999999999999998"
      ]
     },
     "execution_count": 16,
     "metadata": {},
     "output_type": "execute_result"
    }
   ],
   "source": [
    "## In Sample Error Rate for linear regression prediction\n",
    "1 - (sum(df.df['match']) / len(df.df['match']))"
   ]
  },
  {
   "cell_type": "code",
   "execution_count": 17,
   "metadata": {},
   "outputs": [],
   "source": [
    "## Evaluate Hypothesis options\n",
    "hypothesis = {'a': (np.array([-1, -0.05, 0.08, 0.13, 1.5, 1.5]), []),\n",
    "'b' : (np.array([-1, -0.05, 0.08, 0.13, 1.5, 15]), []),\n",
    "'c' : (np.array([-1, -0.05, 0.08, 0.13, 15, 1.5]), []),\n",
    "'d' : (np.array([-1, -1.5, 0.08, 0.13, 0.05, 0.05]), []),\n",
    "'e' : (np.array([-1, -0.05, 0.08, 1.5, 0.15, 0.15]), [])}\n",
    "\n",
    "for i in range(0, 1000):\n",
    "    #print(\"************ TRIAL {} ************\".format(i))\n",
    "    for h in hypothesis.keys():\n",
    "        #print('HYPOTHESIS {}'.format(h))\n",
    "        df.evaluate(hypothesis[h][0], 'x_vector_t')\n",
    "        result = df.df['match'].sum() / df.df['match'].count()\n",
    "        hypothesis[h][1].append(result)\n",
    "        #print(result)"
   ]
  },
  {
   "cell_type": "code",
   "execution_count": 18,
   "metadata": {},
   "outputs": [
    {
     "name": "stdout",
     "output_type": "stream",
     "text": [
      "a: 0.1299999999999959\n",
      "b: 0.2999999999999936\n",
      "c: 0.36000000000001076\n",
      "d: 0.4199999999999998\n",
      "e: 0.4599999999999934\n"
     ]
    }
   ],
   "source": [
    "for i in hypothesis.keys():\n",
    "    error = 1 - (sum(hypothesis[i][1]) / len(hypothesis[i][1]))\n",
    "    print('{}: {}'.format(i, error))"
   ]
  },
  {
   "cell_type": "markdown",
   "metadata": {},
   "source": [
    "<b> Answer (9) </b> <br></br>\n",
    "<b>[a]</b> g(x1, x2) = sign(−1 − 0.05x1 + 0.08x2 + 0.13x1x2 + 1.5x1^2 + 1.5x2^2)"
   ]
  },
  {
   "cell_type": "code",
   "execution_count": 19,
   "metadata": {},
   "outputs": [],
   "source": [
    "OOS_error = []\n",
    "for i in range(0,1000):\n",
    "    oos = NoisyDF(1000)\n",
    "    oos.x_transform()\n",
    "    oos.evaluate(hypothesis['a'][0], 'x_vector_t')\n",
    "    error = 1 - (sum(oos.df['match']) / len(oos.df['match']))\n",
    "    OOS_error.append(error)"
   ]
  },
  {
   "cell_type": "code",
   "execution_count": 20,
   "metadata": {},
   "outputs": [
    {
     "data": {
      "text/plain": [
       "0.14303200000000016"
      ]
     },
     "execution_count": 20,
     "metadata": {},
     "output_type": "execute_result"
    }
   ],
   "source": [
    "sum(OOS_error) / len(OOS_error)"
   ]
  },
  {
   "cell_type": "markdown",
   "metadata": {},
   "source": [
    "<b> Answer (10) </b> <br></br>\n",
    "<b>[b]</b> 0.1"
   ]
  }
 ],
 "metadata": {
  "kernelspec": {
   "display_name": "Python 3",
   "language": "python",
   "name": "python3"
  },
  "language_info": {
   "codemirror_mode": {
    "name": "ipython",
    "version": 3
   },
   "file_extension": ".py",
   "mimetype": "text/x-python",
   "name": "python",
   "nbconvert_exporter": "python",
   "pygments_lexer": "ipython3",
   "version": "3.6.4"
  }
 },
 "nbformat": 4,
 "nbformat_minor": 2
}
